{
 "cells": [
  {
   "cell_type": "code",
   "execution_count": 1,
   "metadata": {},
   "outputs": [],
   "source": [
    "# assemble data from yahoo finance api\n",
    "# install these dependencies\n",
    "import yfinance as yf\n",
    "import pandas as pd\n",
    "from datetime import datetime, timedelta"
   ]
  },
  {
   "cell_type": "code",
   "execution_count": 2,
   "metadata": {},
   "outputs": [
    {
     "name": "stderr",
     "output_type": "stream",
     "text": [
      "[*********************100%***********************]  1 of 1 completed"
     ]
    },
    {
     "name": "stdout",
     "output_type": "stream",
     "text": [
      "Price                      Adj Close      Close       High        Low  \\\n",
      "Ticker                          TSLA       TSLA       TSLA       TSLA   \n",
      "Date                                                                    \n",
      "2015-01-02 00:00:00+00:00  14.620667  14.620667  14.883333  14.217333   \n",
      "2015-01-05 00:00:00+00:00  14.006000  14.006000  14.433333  13.810667   \n",
      "2015-01-06 00:00:00+00:00  14.085333  14.085333  14.280000  13.614000   \n",
      "2015-01-07 00:00:00+00:00  14.063333  14.063333  14.318667  13.985333   \n",
      "2015-01-08 00:00:00+00:00  14.041333  14.041333  14.253333  14.000667   \n",
      "\n",
      "Price                           Open    Volume  \n",
      "Ticker                          TSLA      TSLA  \n",
      "Date                                            \n",
      "2015-01-02 00:00:00+00:00  14.858000  71466000  \n",
      "2015-01-05 00:00:00+00:00  14.303333  80527500  \n",
      "2015-01-06 00:00:00+00:00  14.004000  93928500  \n",
      "2015-01-07 00:00:00+00:00  14.223333  44526000  \n",
      "2015-01-08 00:00:00+00:00  14.187333  51637500  \n"
     ]
    },
    {
     "name": "stderr",
     "output_type": "stream",
     "text": [
      "\n"
     ]
    }
   ],
   "source": [
    "# Define the stock symbol and date range\n",
    "ticker_symbol = 'TSLA'\n",
    "\n",
    "# Download daily data for Tesla from 2015 to 2023\n",
    "tesla_daily = yf.download(ticker_symbol, start=\"2015-01-01\", end=\"2023-10-01\", interval=\"1d\")\n",
    "\n",
    "# Display the first few rows\n",
    "print(tesla_daily.head())"
   ]
  },
  {
   "cell_type": "code",
   "execution_count": 3,
   "metadata": {},
   "outputs": [
    {
     "data": {
      "text/plain": [
       "(992, 3193, 31.06796116504854)"
      ]
     },
     "execution_count": 3,
     "metadata": {},
     "output_type": "execute_result"
    }
   ],
   "source": [
    "# Generate a complete daily date range for the period covered by tesla_daily\n",
    "expected_daily_range = pd.date_range(start=tesla_daily.index.min(), end=tesla_daily.index.max(), freq='D')\n",
    "\n",
    "# Identify any missing dates by comparing with the daily data's index\n",
    "missing_days = expected_daily_range.difference(tesla_daily.index)\n",
    "\n",
    "# Calculate missing data statistics\n",
    "missing_count = len(missing_days)\n",
    "total_days = len(expected_daily_range)\n",
    "missing_percentage = (missing_count / total_days) * 100\n",
    "\n",
    "missing_count, total_days, missing_percentage\n",
    "\n"
   ]
  },
  {
   "cell_type": "code",
   "execution_count": 4,
   "metadata": {},
   "outputs": [],
   "source": [
    "tesla_daily_interpolated = tesla_daily.interpolate(method='linear')\n"
   ]
  },
  {
   "cell_type": "code",
   "execution_count": 5,
   "metadata": {},
   "outputs": [
    {
     "data": {
      "text/plain": [
       "(False,\n",
       " MultiIndex([('Adj Close', 'TSLA'),\n",
       "             (    'Close', 'TSLA'),\n",
       "             (     'High', 'TSLA'),\n",
       "             (      'Low', 'TSLA'),\n",
       "             (     'Open', 'TSLA'),\n",
       "             (   'Volume', 'TSLA')],\n",
       "            names=['Price', 'Ticker']))"
      ]
     },
     "execution_count": 5,
     "metadata": {},
     "output_type": "execute_result"
    }
   ],
   "source": [
    "# Generate a complete date range for the daily frequency\n",
    "expected_daily_range = pd.date_range(start=tesla_daily.index.min(), end=tesla_daily.index.max(), freq='D')\n",
    "\n",
    "# Check for missing dates after filling\n",
    "missing_days_after_fill = expected_daily_range.difference(tesla_daily_interpolated.index)\n",
    "is_data_complete = len(missing_days_after_fill) == 0\n",
    "\n",
    "# Display column names\n",
    "columns = tesla_daily_interpolated.columns\n",
    "\n",
    "is_data_complete, columns\n"
   ]
  },
  {
   "cell_type": "code",
   "execution_count": 6,
   "metadata": {},
   "outputs": [
    {
     "data": {
      "text/plain": [
       "DatetimeIndex(['2015-01-03 00:00:00+00:00', '2015-01-04 00:00:00+00:00',\n",
       "               '2015-01-10 00:00:00+00:00', '2015-01-11 00:00:00+00:00',\n",
       "               '2015-01-17 00:00:00+00:00', '2015-01-18 00:00:00+00:00',\n",
       "               '2015-01-19 00:00:00+00:00', '2015-01-24 00:00:00+00:00',\n",
       "               '2015-01-25 00:00:00+00:00', '2015-01-31 00:00:00+00:00',\n",
       "               ...\n",
       "               '2023-08-27 00:00:00+00:00', '2023-09-02 00:00:00+00:00',\n",
       "               '2023-09-03 00:00:00+00:00', '2023-09-04 00:00:00+00:00',\n",
       "               '2023-09-09 00:00:00+00:00', '2023-09-10 00:00:00+00:00',\n",
       "               '2023-09-16 00:00:00+00:00', '2023-09-17 00:00:00+00:00',\n",
       "               '2023-09-23 00:00:00+00:00', '2023-09-24 00:00:00+00:00'],\n",
       "              dtype='datetime64[ns, UTC]', length=992, freq=None)"
      ]
     },
     "execution_count": 6,
     "metadata": {},
     "output_type": "execute_result"
    }
   ],
   "source": [
    "# Generate expected full daily range for the time frame\n",
    "expected_daily_range = pd.date_range(start=tesla_daily_interpolated.index.min(), end=tesla_daily_interpolated.index.max(), freq='D')\n",
    "\n",
    "# Identify missing dates filling\n",
    "missing_days_after_fill = expected_daily_range.difference(tesla_daily_interpolated.index)\n",
    "\n",
    "# Display the list of missing dates\n",
    "missing_days_after_fill\n"
   ]
  },
  {
   "cell_type": "code",
   "execution_count": 7,
   "metadata": {},
   "outputs": [
    {
     "data": {
      "text/plain": [
       "(True,\n",
       " Price                      Adj Close      Close       High        Low  \\\n",
       " Ticker                          TSLA       TSLA       TSLA       TSLA   \n",
       " 2015-01-02 00:00:00+00:00  14.620667  14.620667  14.883333  14.217333   \n",
       " 2015-01-03 00:00:00+00:00  14.620667  14.620667  14.883333  14.217333   \n",
       " 2015-01-04 00:00:00+00:00  14.620667  14.620667  14.883333  14.217333   \n",
       " 2015-01-05 00:00:00+00:00  14.006000  14.006000  14.433333  13.810667   \n",
       " 2015-01-06 00:00:00+00:00  14.085333  14.085333  14.280000  13.614000   \n",
       " \n",
       " Price                           Open      Volume  \n",
       " Ticker                          TSLA        TSLA  \n",
       " 2015-01-02 00:00:00+00:00  14.858000  71466000.0  \n",
       " 2015-01-03 00:00:00+00:00  14.858000  71466000.0  \n",
       " 2015-01-04 00:00:00+00:00  14.858000  71466000.0  \n",
       " 2015-01-05 00:00:00+00:00  14.303333  80527500.0  \n",
       " 2015-01-06 00:00:00+00:00  14.004000  93928500.0  )"
      ]
     },
     "execution_count": 7,
     "metadata": {},
     "output_type": "execute_result"
    }
   ],
   "source": [
    "# Reindex the DataFrame to include all dates range\n",
    "tesla_daily_filled = tesla_daily.reindex(expected_daily_range)\n",
    "\n",
    "# Forward fill to propagate non-trading days\n",
    "tesla_daily_filled = tesla_daily_filled.ffill()\n",
    "\n",
    "# checking for any remaining missing dates\n",
    "missing_days_after_fill = expected_daily_range.difference(tesla_daily_filled.index)\n",
    "is_data_complete = len(missing_days_after_fill) == 0\n",
    "\n",
    "is_data_complete, tesla_daily_filled.head()\n"
   ]
  },
  {
   "cell_type": "code",
   "execution_count": 8,
   "metadata": {},
   "outputs": [],
   "source": [
    "# Feature engineering\n",
    "# remove long annoying date column but extract useful features\n",
    "# Extracting day of the week and month as features\n",
    "# If MultiIndex, (like its labeled Close, TSLA, for the column headers, we just want it to be Close)\n",
    "tesla_daily_filled.columns = tesla_daily_filled.columns.get_level_values(0)\n",
    "\n",
    "# Add day of the week, 0-6\n",
    "tesla_daily_filled['Day_of_Week'] = tesla_daily_filled.index.dayofweek\n",
    "\n",
    "# Add month, 1-12\n",
    "tesla_daily_filled['Month'] = tesla_daily_filled.index.month\n",
    "\n",
    "# Reset the index to remove the date\n",
    "tesla_daily_filled = tesla_daily_filled.reset_index(drop=True)"
   ]
  },
  {
   "cell_type": "code",
   "execution_count": 9,
   "metadata": {},
   "outputs": [
    {
     "name": "stdout",
     "output_type": "stream",
     "text": [
      "Current index: RangeIndex(start=0, stop=3191, step=1)\n"
     ]
    }
   ],
   "source": [
    "\n",
    "# Drop the second row (index 1)\n",
    "tesla_daily_filled = tesla_daily_filled.drop(index=1)\n",
    "# Assuming 'tesla_daily_filled' is the forward-filled DataFrame\n",
    "tesla_daily_filled.to_csv(\"tesla_daily_filled.csv\")\n",
    "\n",
    "# Add a 30-day moving average to approximate the last month's trend\n",
    "tesla_daily_filled['MA_30'] = tesla_daily_filled['Close'].rolling(window=30).mean()\n",
    "\n",
    "# Calculate Target_Close by shifting 'Close' column by -1\n",
    "tesla_daily_filled['Target_Close'] = tesla_daily_filled['Close'].shift(-1)\n",
    "\n",
    "# Calculate Price_Movement as the difference in price for the next day\n",
    "tesla_daily_filled['Price_Movement'] = tesla_daily_filled['Target_Close'] - tesla_daily_filled['Close']\n",
    "\n",
    "# Drop the last row if it has NaN values in 'Target_Close' (bc of shifting)\n",
    "tesla_daily_filled = tesla_daily_filled.dropna(subset=['Target_Close'])\n",
    "\n",
    "# Reset index to create a clean column for the first row and rename it to 'Time_Step'\n",
    "tesla_daily_filled = tesla_daily_filled.reset_index(drop=True)\n",
    "tesla_daily_filled.index.name = 'Time_Step'  # This sets the first column name in the DataFrame\n",
    "\n",
    "# Reset the index to turn 'Time_Step' from an index into a column\n",
    "tesla_daily_filled = tesla_daily_filled.reset_index()\n",
    "\n",
    "# convert to csv to be loaded for training\n",
    "tesla_daily_filled.to_csv(\"tesla_data.csv\", index=False)"
   ]
  }
 ],
 "metadata": {
  "kernelspec": {
   "display_name": "env",
   "language": "python",
   "name": "python3"
  },
  "language_info": {
   "codemirror_mode": {
    "name": "ipython",
    "version": 3
   },
   "file_extension": ".py",
   "mimetype": "text/x-python",
   "name": "python",
   "nbconvert_exporter": "python",
   "pygments_lexer": "ipython3",
   "version": "3.12.7"
  }
 },
 "nbformat": 4,
 "nbformat_minor": 2
}
